{
 "cells": [
  {
   "cell_type": "markdown",
   "metadata": {},
   "source": [
    "# Web Scraping Lab\n",
    "\n",
    "You will find in this notebook some web scraping exercises to practice your scraping skills using `requests` and `Beautiful Soup`.\n",
    "\n",
    "**Tips:**\n",
    "\n",
    "- Check the [response status code](https://http.cat/) for each request to ensure you have obtained the intended content.\n",
    "- Look at the HTML code in each request to understand the kind of info you are getting and its format.\n",
    "- Check for patterns in the response text to extract the data/info requested in each question.\n",
    "- Visit each url and take a look at its source through Chrome DevTools. You'll need to identify the html tags, special class names etc. used for the html content you are expected to extract.\n",
    "- Check out the css selectors."
   ]
  },
  {
   "cell_type": "markdown",
   "metadata": {},
   "source": [
    "### Useful Resources\n",
    "- [Requests library](http://docs.python-requests.org/en/master/#the-user-guide) documentation \n",
    "- [Beautiful Soup Doc](https://www.crummy.com/software/BeautifulSoup/bs4/doc/)\n",
    "- [List of HTTP status codes](https://en.wikipedia.org/wiki/List_of_HTTP_status_codes)\n",
    "- [HTML basics](http://www.simplehtmlguide.com/cheatsheet.php)\n",
    "- [CSS basics](https://www.cssbasics.com/#page_start)"
   ]
  },
  {
   "cell_type": "markdown",
   "metadata": {},
   "source": [
    "#### First of all, gathering our tools."
   ]
  },
  {
   "cell_type": "code",
   "execution_count": 2,
   "metadata": {},
   "outputs": [],
   "source": [
    "import requests\n",
    "from bs4 import BeautifulSoup\n",
    "import pandas as pd\n",
    "import json"
   ]
  },
  {
   "cell_type": "markdown",
   "metadata": {},
   "source": [
    "#### Download, parse (using BeautifulSoup), and print the content from the Trending Developers page from GitHub:"
   ]
  },
  {
   "cell_type": "code",
   "execution_count": 26,
   "metadata": {},
   "outputs": [],
   "source": [
    "# This is the url you will scrape in this exercise\n",
    "url = 'https://github.com/trending/developers'"
   ]
  },
  {
   "cell_type": "code",
   "execution_count": 27,
   "metadata": {},
   "outputs": [
    {
     "name": "stdout",
     "output_type": "stream",
     "text": [
      "\n",
      "<!DOCTYPE html>\n",
      "\n",
      "<html lang=\"en\">\n",
      "<head>\n",
      "<meta charset=\"utf-8\"/>\n",
      "<link href=\"https://github.githubassets.com\" rel=\"dns-prefetch\"/>\n",
      "<link href=\"https://avatars0.githubusercontent.com\" rel=\"dns-prefetc\n"
     ]
    }
   ],
   "source": [
    "data = requests.get(url)\n",
    "soup = BeautifulSoup(data.text)\n",
    "\n",
    "print(str(soup)[:200])"
   ]
  },
  {
   "cell_type": "markdown",
   "metadata": {},
   "source": [
    "#### Display the names of the trending developers retrieved in the previous step.\n",
    "\n",
    "Your output should be a Python list of developer names. Each name should not contain any html tag.\n",
    "\n",
    "**Instructions:**\n",
    "\n",
    "1. Find out the html tag and class names used for the developer names. You can achieve this using Chrome DevTools.\n",
    "\n",
    "1. Use BeautifulSoup to extract all the html elements that contain the developer names.\n",
    "\n",
    "1. Use string manipulation techniques to replace whitespaces and linebreaks (i.e. `\\n`) in the *text* of each html element. Use a list to store the clean names.\n",
    "\n",
    "1. Print the list of names.\n",
    "\n",
    "Your output should look like below (with different names):\n",
    "\n",
    "```\n",
    "['trimstray (@trimstray)',\n",
    " 'joewalnes (JoeWalnes)',\n",
    " 'charlax (Charles-AxelDein)',\n",
    " 'ForrestKnight (ForrestKnight)',\n",
    " 'revery-ui (revery-ui)',\n",
    " 'alibaba (Alibaba)',\n",
    " 'Microsoft (Microsoft)',\n",
    " 'github (GitHub)',\n",
    " 'facebook (Facebook)',\n",
    " 'boazsegev (Bo)',\n",
    " 'google (Google)',\n",
    " 'cloudfetch',\n",
    " 'sindresorhus (SindreSorhus)',\n",
    " 'tensorflow',\n",
    " 'apache (TheApacheSoftwareFoundation)',\n",
    " 'DevonCrawford (DevonCrawford)',\n",
    " 'ARMmbed (ArmMbed)',\n",
    " 'vuejs (vuejs)',\n",
    " 'fastai (fast.ai)',\n",
    " 'QiShaoXuan (Qi)',\n",
    " 'joelparkerhenderson (JoelParkerHenderson)',\n",
    " 'torvalds (LinusTorvalds)',\n",
    " 'CyC2018',\n",
    " 'komeiji-satori (神楽坂覚々)',\n",
    " 'script-8']\n",
    " ```"
   ]
  },
  {
   "cell_type": "code",
   "execution_count": 28,
   "metadata": {},
   "outputs": [
    {
     "name": "stdout",
     "output_type": "stream",
     "text": [
      "[<h1 class=\"h3 lh-condensed\">\n",
      "<a data-hydro-click='{\"event_type\":\"explore.click\",\"payload\":{\"click_context\":\"TRENDING_DEVELOPERS_PAGE\",\"click_target\":\"OWNER\",\"click_visual_representation\":\"TRENDING_DEVELOPER\",\"actor_id\":null,\"record_id\":1285584,\"originating_url\":\"https://github.com/trending/developers\",\"user_id\":null}}' data-hydro-click-hmac=\"70dd8389338a7f9af4fa4d6000b03541cfa4a8ee4959db150b3e3074a7dc9990\" href=\"/laurent22\">\n",
      "            Laurent\n",
      "</a> </h1>, <h1 class=\"h3 lh-condensed\">\n",
      "<a data-h\n"
     ]
    }
   ],
   "source": [
    "# <h1 class=\"h3 lh-condensed\"\n",
    "name= soup.select('h1.h3.lh-condensed')\n",
    "print(str(name)[:500])\n"
   ]
  },
  {
   "cell_type": "code",
   "execution_count": 29,
   "metadata": {},
   "outputs": [
    {
     "data": {
      "text/plain": [
       "[['Laurent'],\n",
       " ['Danny', 'Ryan'],\n",
       " ['Arda', 'Tanrıkulu'],\n",
       " ['Dotan', 'Simha'],\n",
       " ['Felix', 'Angelov'],\n",
       " ['Alisdair', 'McDiarmid'],\n",
       " ['Gleb', 'Bahmutov'],\n",
       " ['Anton', 'Babenko'],\n",
       " ['Florian', 'Roth'],\n",
       " ['Tanner', 'Linsley'],\n",
       " ['Nicolás', 'Bevacqua'],\n",
       " ['Frost', 'Ming'],\n",
       " ['Felix', 'Lange'],\n",
       " ['Kevin', 'Papst'],\n",
       " ['Tobias', 'Klauser'],\n",
       " ['Mathias', 'Bynens'],\n",
       " ['Fons', 'van', 'der', 'Plas'],\n",
       " ['Miek', 'Gieben'],\n",
       " ['Romain', 'Rigaux'],\n",
       " ['Brad', 'Fitzpatrick'],\n",
       " ['Michael', 'Shilman'],\n",
       " ['Liam', 'DeBeasi'],\n",
       " ['Jean', 'Mertz'],\n",
       " ['Ingo', 'Bürk'],\n",
       " ['Tobias', 'Reich']]"
      ]
     },
     "execution_count": 29,
     "metadata": {},
     "output_type": "execute_result"
    }
   ],
   "source": [
    "data_scraped = [n.text.split() for n in name]\n",
    "data_scraped"
   ]
  },
  {
   "cell_type": "code",
   "execution_count": 30,
   "metadata": {},
   "outputs": [
    {
     "name": "stdout",
     "output_type": "stream",
     "text": [
      "['Laurent', 'Danny Ryan', 'Arda Tanrıkulu', 'Dotan Simha', 'Felix Angelov', 'Alisdair McDiarmid', 'Gleb Bahmutov', 'Anton Babenko', 'Florian Roth', 'Tanner Linsley', 'Nicolás Bevacqua', 'Frost Ming', 'Felix Lange', 'Kevin Papst', 'Tobias Klauser', 'Mathias Bynens', 'Fons van der Plas', 'Miek Gieben', 'Romain Rigaux', 'Brad Fitzpatrick', 'Michael Shilman', 'Liam DeBeasi', 'Jean Mertz', 'Ingo Bürk', 'Tobias Reich']\n"
     ]
    }
   ],
   "source": [
    "names_lst=[\" \".join(name) for name in data_scraped]\n",
    "print(names_lst)\n",
    "        "
   ]
  },
  {
   "cell_type": "markdown",
   "metadata": {},
   "source": [
    "#### Display the trending Python repositories in GitHub\n",
    "\n",
    "The steps to solve this problem is similar to the previous one except that you need to find out the repository names instead of developer names."
   ]
  },
  {
   "cell_type": "code",
   "execution_count": 31,
   "metadata": {},
   "outputs": [],
   "source": [
    "# This is the url you will scrape in this exercise\n",
    "url1 = 'https://github.com/trending/python?since=daily'"
   ]
  },
  {
   "cell_type": "code",
   "execution_count": 32,
   "metadata": {},
   "outputs": [
    {
     "name": "stdout",
     "output_type": "stream",
     "text": [
      "\n",
      "<!DOCTYPE html>\n",
      "\n",
      "<html lang=\"en\">\n",
      "<head>\n",
      "<meta charset=\"utf-8\"/>\n",
      "<link href=\"https://github.githubassets.com\" rel=\"dns-prefetch\"/>\n",
      "<link href=\"https://avatars0.githubusercontent.com\" rel=\"dns-prefetc\n"
     ]
    }
   ],
   "source": [
    "data1 = requests.get(url1)\n",
    "soup1 = BeautifulSoup(data1.text)\n",
    "\n",
    "print(str(soup1)[:200])"
   ]
  },
  {
   "cell_type": "code",
   "execution_count": 33,
   "metadata": {},
   "outputs": [
    {
     "name": "stdout",
     "output_type": "stream",
     "text": [
      "[<h1 class=\"h3 lh-condensed\">\n",
      "<a data-hydro-click='{\"event_type\":\"explore.click\",\"payload\":{\"click_context\":\"TRENDING_REPOSITORIES_PAGE\",\"click_target\":\"REPOSITORY\",\"click_visual_representation\":\"REPOSITORY_NAME_HEADING\",\"actor_id\":null,\"record_id\":306742184,\"originating_url\":\"https://github.com/trending/python?since=daily\",\"user_id\":null}}' data-hydro-click-hmac=\"dddecff20600dbe06556ff8d168f86464f40965e0be412925037025c2b4de3b5\" href=\"/l1ving/youtube-dl\">\n",
      "<svg aria-hidden=\"true\" class=\"octicon o\n"
     ]
    }
   ],
   "source": [
    "name1= soup1.select('h1.h3.lh-condensed')\n",
    "print(str(name1)[:500])"
   ]
  },
  {
   "cell_type": "code",
   "execution_count": 34,
   "metadata": {},
   "outputs": [
    {
     "data": {
      "text/plain": [
       "[['l1ving', '/', 'youtube-dl'],\n",
       " ['MobSF', '/', 'Mobile-Security-Framework-MobSF'],\n",
       " ['mxrch', '/', 'GHunt'],\n",
       " ['gto76', '/', 'python-cheatsheet'],\n",
       " ['jofpin', '/', 'trape'],\n",
       " ['apache', '/', 'incubator-superset'],\n",
       " ['swisskyrepo', '/', 'PayloadsAllTheThings'],\n",
       " ['OWASP', '/', 'CheatSheetSeries'],\n",
       " ['facebookresearch', '/', 'pifuhd'],\n",
       " ['jerry-git', '/', 'learn-python3'],\n",
       " ['ethereum', '/', 'eth2.0-deposit-cli'],\n",
       " ['facebookresearch', '/', 'wav2letter'],\n",
       " ['ethereum', '/', 'eth2.0-specs'],\n",
       " ['PaddlePaddle', '/', 'PaddleX'],\n",
       " ['teja156', '/', 'microsoft-teams-class-attender'],\n",
       " ['ssut', '/', 'py-googletrans'],\n",
       " ['pytorch', '/', 'fairseq'],\n",
       " ['facebookresearch', '/', 'pytorch3d'],\n",
       " ['floodsung', '/', 'Deep-Learning-Papers-Reading-Roadmap'],\n",
       " ['dask', '/', 'dask'],\n",
       " ['deepset-ai', '/', 'haystack'],\n",
       " ['aws-samples', '/', 'aws-cdk-examples'],\n",
       " ['openatx', '/', 'uiautomator2'],\n",
       " ['moranzcw', '/', 'Computer-Networking-A-Top-Down-Approach-NOTES'],\n",
       " ['aiogram', '/', 'aiogram']]"
      ]
     },
     "execution_count": 34,
     "metadata": {},
     "output_type": "execute_result"
    }
   ],
   "source": [
    "# href\n",
    "data_scraped = [n.text.split() for n in name1]\n",
    "data_scraped"
   ]
  },
  {
   "cell_type": "code",
   "execution_count": 35,
   "metadata": {},
   "outputs": [
    {
     "name": "stdout",
     "output_type": "stream",
     "text": [
      "['l1ving / youtube-dl', 'MobSF / Mobile-Security-Framework-MobSF', 'mxrch / GHunt', 'gto76 / python-cheatsheet', 'jofpin / trape', 'apache / incubator-superset', 'swisskyrepo / PayloadsAllTheThings', 'OWASP / CheatSheetSeries', 'facebookresearch / pifuhd', 'jerry-git / learn-python3', 'ethereum / eth2.0-deposit-cli', 'facebookresearch / wav2letter', 'ethereum / eth2.0-specs', 'PaddlePaddle / PaddleX', 'teja156 / microsoft-teams-class-attender', 'ssut / py-googletrans', 'pytorch / fairseq', 'facebookresearch / pytorch3d', 'floodsung / Deep-Learning-Papers-Reading-Roadmap', 'dask / dask', 'deepset-ai / haystack', 'aws-samples / aws-cdk-examples', 'openatx / uiautomator2', 'moranzcw / Computer-Networking-A-Top-Down-Approach-NOTES', 'aiogram / aiogram']\n"
     ]
    }
   ],
   "source": [
    "names_lst1=[\" \".join(name1) for name1 in data_scraped]\n",
    "print(names_lst1)"
   ]
  },
  {
   "cell_type": "markdown",
   "metadata": {},
   "source": [
    "#### Display all the image links from Walt Disney wikipedia page"
   ]
  },
  {
   "cell_type": "code",
   "execution_count": 36,
   "metadata": {},
   "outputs": [],
   "source": [
    "# This is the url you will scrape in this exercise\n",
    "url2 = 'https://en.wikipedia.org/wiki/Walt_Disney'"
   ]
  },
  {
   "cell_type": "code",
   "execution_count": 37,
   "metadata": {},
   "outputs": [
    {
     "name": "stdout",
     "output_type": "stream",
     "text": [
      "<!DOCTYPE html>\n",
      "\n",
      "<html class=\"client-nojs\" dir=\"ltr\" lang=\"en\">\n",
      "<head>\n",
      "<meta charset=\"utf-8\"/>\n",
      "<title>Walt Disney - Wikipedia</title>\n",
      "<script>document.documentElement.className=\"client-js\";RLCONF={\"wg\n"
     ]
    }
   ],
   "source": [
    "data2 = requests.get(url2)\n",
    "soup2 = BeautifulSoup(data2.text)\n",
    "\n",
    "print(str(soup2)[:200])"
   ]
  },
  {
   "cell_type": "code",
   "execution_count": 38,
   "metadata": {},
   "outputs": [
    {
     "name": "stdout",
     "output_type": "stream",
     "text": [
      "[<img alt=\"This is a featured article. Click here for more information.\" data-file-height=\"438\" data-file-width=\"462\" decoding=\"async\" height=\"19\" src=\"//upload.wikimedia.org/wikipedia/en/thumb/e/e7/Cscr-featured.svg/20px-Cscr-featured.svg.png\" srcset=\"//upload.wikimedia.org/wikipedia/en/thumb/e/e7/Cscr-featured.svg/30px-Cscr-featured.svg.png 1.5x, //upload.wikimedia.org/wikipedia/en/thumb/e/e7/Cscr-featured.svg/40px-Cscr-featured.svg.png 2x\" width=\"20\"/>, <img alt=\"Extended-protected article\" d\n"
     ]
    }
   ],
   "source": [
    "# img\n",
    "name2= soup2.select('img')\n",
    "print(str(name2)[:500])"
   ]
  },
  {
   "cell_type": "code",
   "execution_count": 39,
   "metadata": {},
   "outputs": [
    {
     "name": "stdout",
     "output_type": "stream",
     "text": [
      "['//upload.wikimedia.org/wikipedia/en/thumb/e/e7/Cscr-featured.svg/20px-Cscr-featured.svg.png', '//upload.wikimedia.org/wikipedia/en/thumb/8/8c/Extended-protection-shackle.svg/20px-Extended-protection-shackle.svg.png', '//upload.wikimedia.org/wikipedia/commons/thumb/d/df/Walt_Disney_1946.JPG/220px-Walt_Disney_1946.JPG', '//upload.wikimedia.org/wikipedia/commons/thumb/8/87/Walt_Disney_1942_signature.svg/150px-Walt_Disney_1942_signature.svg.png', '//upload.wikimedia.org/wikipedia/commons/thumb/c/c\n"
     ]
    }
   ],
   "source": [
    "# for i in name2:\n",
    "#     print(type(i))\n",
    "#     if i.get(\"src\")[:8]==\"//upload\":\n",
    "#         print(i.get(\"src\"))\n",
    "\n",
    "\n",
    "images_lst=[i.get(\"src\") for i in name2 if i.get(\"src\")[:8]==\"//upload\"]\n",
    "print(str(images_lst)[:500])"
   ]
  },
  {
   "cell_type": "markdown",
   "metadata": {},
   "source": [
    "#### Retrieve all links to pages on Wikipedia that refer to some kind of Python."
   ]
  },
  {
   "cell_type": "code",
   "execution_count": 40,
   "metadata": {},
   "outputs": [],
   "source": [
    "# This is the url you will scrape in this exercise\n",
    "url3 ='https://en.wikipedia.org/wiki/Python' "
   ]
  },
  {
   "cell_type": "code",
   "execution_count": 41,
   "metadata": {},
   "outputs": [
    {
     "name": "stdout",
     "output_type": "stream",
     "text": [
      "<!DOCTYPE html>\n",
      "\n",
      "<html class=\"client-nojs\" dir=\"ltr\" lang=\"en\">\n",
      "<head>\n",
      "<meta charset=\"utf-8\"/>\n",
      "<title>Python - Wikipedia</title>\n",
      "<script>document.documentElement.className=\"client-js\";RLCONF={\"wgBreak\n"
     ]
    }
   ],
   "source": [
    "data3 = requests.get(url3)\n",
    "soup3 = BeautifulSoup(data3.text)\n",
    "\n",
    "print(str(soup3)[:200])"
   ]
  },
  {
   "cell_type": "code",
   "execution_count": 42,
   "metadata": {},
   "outputs": [
    {
     "name": "stdout",
     "output_type": "stream",
     "text": [
      "[]\n"
     ]
    }
   ],
   "source": [
    "name3= soup3.select('a.href')\n",
    "print(str(name3)[:500])"
   ]
  },
  {
   "cell_type": "code",
   "execution_count": 43,
   "metadata": {},
   "outputs": [],
   "source": []
  },
  {
   "cell_type": "code",
   "execution_count": null,
   "metadata": {},
   "outputs": [],
   "source": []
  },
  {
   "cell_type": "markdown",
   "metadata": {},
   "source": [
    "#### Number of Titles that have changed in the United States Code since its last release point "
   ]
  },
  {
   "cell_type": "code",
   "execution_count": 44,
   "metadata": {},
   "outputs": [],
   "source": [
    "# This is the url you will scrape in this exercise\n",
    "url4 = 'http://uscode.house.gov/download/download.shtml'"
   ]
  },
  {
   "cell_type": "code",
   "execution_count": 45,
   "metadata": {},
   "outputs": [
    {
     "name": "stdout",
     "output_type": "stream",
     "text": [
      "<?xml version='1.0' encoding='UTF-8' ?>\n",
      "<!DOCTYPE html PUBLIC \"-//W3C//DTD XHTML 1.0 Transitional//EN\" \"http://www.w3.org/TR/xhtml1/DTD/xhtml1-transitional.dtd\">\n",
      "\n",
      "<html xmlns=\"http://www.w3.org/1999/x\n"
     ]
    }
   ],
   "source": [
    "data4 = requests.get(url4)\n",
    "soup4 = BeautifulSoup(data4.text)\n",
    "\n",
    "print(str(soup4)[:200])"
   ]
  },
  {
   "cell_type": "code",
   "execution_count": 46,
   "metadata": {},
   "outputs": [
    {
     "name": "stdout",
     "output_type": "stream",
     "text": [
      "[<div class=\"usctitlechanged\" id=\"us/usc/t8\">\n",
      "\n",
      "          Title 8 - Aliens and Nationality\n",
      "\n",
      "        </div>, <div class=\"usctitlechanged\" id=\"us/usc/t11\">\n",
      "\n",
      "          Title 11 - Bankruptcy <span class=\"footnote\"><a class=\"fn\" href=\"#fn\">٭</a></span>\n",
      "</div>, <div class=\"usctitlechanged\" id=\"us/usc/t15\">\n",
      "\n",
      "          Title 15 - Commerce and Trade\n",
      "\n",
      "        </div>, <div class=\"usctitlechanged\" id=\"us/usc/t18\">\n",
      "\n",
      "          Title 18 - Crimes and Criminal Procedure <span class=\"footnote\"><a class=\"fn\" href=\"\n"
     ]
    }
   ],
   "source": [
    "# usctitlechanged\n",
    "name4= soup4.findAll(\"div\",{'class':'usctitlechanged'})\n",
    "print(str(name4)[:500])"
   ]
  },
  {
   "cell_type": "code",
   "execution_count": 47,
   "metadata": {},
   "outputs": [
    {
     "data": {
      "text/plain": [
       "[['Title', '8', '-', 'Aliens', 'and', 'Nationality'],\n",
       " ['Title', '11', '-', 'Bankruptcy', '٭'],\n",
       " ['Title', '15', '-', 'Commerce', 'and', 'Trade'],\n",
       " ['Title', '18', '-', 'Crimes', 'and', 'Criminal', 'Procedure', '٭'],\n",
       " ['Title', '25', '-', 'Indians'],\n",
       " ['Title', '31', '-', 'Money', 'and', 'Finance', '٭'],\n",
       " ['Title', '32', '-', 'National', 'Guard', '٭'],\n",
       " ['Title', '38', '-', \"Veterans'\", 'Benefits', '٭'],\n",
       " ['Title', '42', '-', 'The', 'Public', 'Health', 'and', 'Welfare'],\n",
       " ['Title', '47', '-', 'Telecommunications'],\n",
       " ['Title',\n",
       "  '51',\n",
       "  '-',\n",
       "  'National',\n",
       "  'and',\n",
       "  'Commercial',\n",
       "  'Space',\n",
       "  'Programs',\n",
       "  '٭']]"
      ]
     },
     "execution_count": 47,
     "metadata": {},
     "output_type": "execute_result"
    }
   ],
   "source": [
    "data_scraped = [n.text.split() for n in name4]\n",
    "data_scraped"
   ]
  },
  {
   "cell_type": "code",
   "execution_count": 48,
   "metadata": {},
   "outputs": [
    {
     "name": "stdout",
     "output_type": "stream",
     "text": [
      "['Title 8 - Aliens and Nationality', 'Title 11 - Bankruptcy ٭', 'Title 15 - Commerce and Trade', 'Title 18 - Crimes and Criminal Procedure ٭', 'Title 25 - Indians', 'Title 31 - Money and Finance ٭', 'Title 32 - National Guard ٭', \"Title 38 - Veterans' Benefits ٭\", 'Title 42 - The Public Health and Welfare', 'Title 47 - Telecommunications', 'Title 51 - National and Commercial Space Programs ٭']\n"
     ]
    }
   ],
   "source": [
    "names_lst4=[\" \".join(name4) for name4 in data_scraped]\n",
    "print(names_lst4)"
   ]
  },
  {
   "cell_type": "markdown",
   "metadata": {},
   "source": [
    "#### A Python list with the top ten FBI's Most Wanted names "
   ]
  },
  {
   "cell_type": "code",
   "execution_count": 49,
   "metadata": {},
   "outputs": [],
   "source": [
    "# This is the url you will scrape in this exercise\n",
    "url5 = 'https://www.fbi.gov/wanted/topten'"
   ]
  },
  {
   "cell_type": "code",
   "execution_count": 50,
   "metadata": {},
   "outputs": [
    {
     "name": "stdout",
     "output_type": "stream",
     "text": [
      "<!DOCTYPE html>\n",
      "\n",
      "<html data-gridsystem=\"bs3\" lang=\"en\">\n",
      "<head>\n",
      "<meta charset=\"utf-8\"/>\n",
      "<meta content=\"ie=edge\" http-equiv=\"x-ua-compatible\"/>\n",
      "<meta content=\"width=device-width, initial-scale=1.0\" name\n"
     ]
    }
   ],
   "source": [
    "data5 = requests.get(url5)\n",
    "soup5 = BeautifulSoup(data5.text)\n",
    "\n",
    "print(str(soup5)[:200])"
   ]
  },
  {
   "cell_type": "code",
   "execution_count": 51,
   "metadata": {},
   "outputs": [
    {
     "name": "stdout",
     "output_type": "stream",
     "text": [
      "[<h3 class=\"title\">\n",
      "<a href=\"https://www.fbi.gov/wanted/topten/arnoldo-jimenez\">ARNOLDO JIMENEZ</a>\n",
      "</h3>, <h3 class=\"title\">\n",
      "<a href=\"https://www.fbi.gov/wanted/topten/jason-derek-brown\">JASON DEREK BROWN</a>\n",
      "</h3>, <h3 class=\"title\">\n",
      "<a href=\"https://www.fbi.gov/wanted/topten/alexis-flores\">ALEXIS FLORES</a>\n",
      "</h3>, <h3 class=\"title\">\n",
      "<a href=\"https://www.fbi.gov/wanted/topten/jose-rodolfo-villarreal-hernandez\">JOSE RODOLFO VILLARREAL-HERNANDEZ</a>\n",
      "</h3>, <h3 class=\"title\">\n",
      "<a href=\"https://www\n"
     ]
    }
   ],
   "source": [
    "name5= soup5.select(\"h3.title\")\n",
    "print(str(name5)[:500])"
   ]
  },
  {
   "cell_type": "code",
   "execution_count": 52,
   "metadata": {},
   "outputs": [
    {
     "data": {
      "text/plain": [
       "[['ARNOLDO', 'JIMENEZ'],\n",
       " ['JASON', 'DEREK', 'BROWN'],\n",
       " ['ALEXIS', 'FLORES'],\n",
       " ['JOSE', 'RODOLFO', 'VILLARREAL-HERNANDEZ'],\n",
       " ['EUGENE', 'PALMER'],\n",
       " ['RAFAEL', 'CARO-QUINTERO'],\n",
       " ['ROBERT', 'WILLIAM', 'FISHER'],\n",
       " ['BHADRESHKUMAR', 'CHETANBHAI', 'PATEL'],\n",
       " ['ALEJANDRO', 'ROSALES', 'CASTILLO'],\n",
       " ['YASER', 'ABDEL', 'SAID']]"
      ]
     },
     "execution_count": 52,
     "metadata": {},
     "output_type": "execute_result"
    }
   ],
   "source": [
    "data_scraped = [n.text.split() for n in name5]\n",
    "data_scraped"
   ]
  },
  {
   "cell_type": "code",
   "execution_count": 53,
   "metadata": {},
   "outputs": [
    {
     "name": "stdout",
     "output_type": "stream",
     "text": [
      "['ARNOLDO JIMENEZ', 'JASON DEREK BROWN', 'ALEXIS FLORES', 'JOSE RODOLFO VILLARREAL-HERNANDEZ', 'EUGENE PALMER', 'RAFAEL CARO-QUINTERO', 'ROBERT WILLIAM FISHER', 'BHADRESHKUMAR CHETANBHAI PATEL', 'ALEJANDRO ROSALES CASTILLO', 'YASER ABDEL SAID']\n"
     ]
    }
   ],
   "source": [
    "names_lst5=[\" \".join(name5) for name5 in data_scraped]\n",
    "print(names_lst5)"
   ]
  },
  {
   "cell_type": "markdown",
   "metadata": {},
   "source": [
    "#### List all language names and number of related articles in the order they appear in wikipedia.org"
   ]
  },
  {
   "cell_type": "code",
   "execution_count": 54,
   "metadata": {},
   "outputs": [],
   "source": [
    "# This is the url you will scrape in this exercise\n",
    "url6 = 'https://www.wikipedia.org/'"
   ]
  },
  {
   "cell_type": "code",
   "execution_count": 55,
   "metadata": {},
   "outputs": [
    {
     "name": "stdout",
     "output_type": "stream",
     "text": [
      "<!DOCTYPE html>\n",
      "\n",
      "<html class=\"no-js\" lang=\"mul\">\n",
      "<head>\n",
      "<meta charset=\"utf-8\"/>\n",
      "<title>Wikipedia</title>\n",
      "<meta content=\"Wikipedia is a free online encyclopedia, created and edited by volunteers around\n"
     ]
    }
   ],
   "source": [
    "data6 = requests.get(url6)\n",
    "soup6 = BeautifulSoup(data6.text)\n",
    "\n",
    "print(str(soup6)[:200])"
   ]
  },
  {
   "cell_type": "code",
   "execution_count": 56,
   "metadata": {},
   "outputs": [
    {
     "data": {
      "text/plain": [
       "[]"
      ]
     },
     "execution_count": 56,
     "metadata": {},
     "output_type": "execute_result"
    }
   ],
   "source": [
    "# link-box\n",
    "name6= soup6.select(\"link-box\")\n",
    "name6"
   ]
  },
  {
   "cell_type": "markdown",
   "metadata": {},
   "source": [
    "#### A list with the different kind of datasets available in data.gov.uk "
   ]
  },
  {
   "cell_type": "code",
   "execution_count": 57,
   "metadata": {},
   "outputs": [],
   "source": [
    "# This is the url you will scrape in this exercise\n",
    "url7 = 'https://data.gov.uk/'"
   ]
  },
  {
   "cell_type": "code",
   "execution_count": 58,
   "metadata": {},
   "outputs": [
    {
     "name": "stdout",
     "output_type": "stream",
     "text": [
      "\n",
      "<!DOCTYPE html>\n",
      "\n",
      "<!--[if lt IE 9]><html class=\"lte-ie8\" lang=\"en\"><![endif]-->\n",
      "<!--[if gt IE 8]><!--><html lang=\"en\"><!--<![endif]-->\n",
      "<html class=\"govuk-template\">\n",
      "<head>\n",
      "<meta charset=\"utf-8\"/>\n",
      "<tit\n"
     ]
    }
   ],
   "source": [
    "data7 = requests.get(url7)\n",
    "soup7 = BeautifulSoup(data7.text)\n",
    "\n",
    "print(str(soup7)[:200])"
   ]
  },
  {
   "cell_type": "code",
   "execution_count": 59,
   "metadata": {},
   "outputs": [
    {
     "name": "stdout",
     "output_type": "stream",
     "text": [
      "[<a class=\"govuk-link\" href=\"/cookies\">cookies to collect information</a>, <a class=\"govuk-link\" data-module=\"track-click\" data-track-action=\"Cookie banner settings clicked from confirmation\" data-track-category=\"cookieBanner\" href=\"/cookies\">change your cookie settings</a>, <a class=\"govuk-link\" href=\"http://www.smartsurvey.co.uk/s/3SEXD/\">feedback</a>, <a class=\"govuk-link\" href=\"/search?filters%5Btopic%5D=Business+and+economy\">Business and economy</a>, <a class=\"govuk-link\" href=\"/search?filt\n"
     ]
    }
   ],
   "source": [
    "# govuk-link\n",
    "name7= soup7.findAll(\"a\",{'class':'govuk-link'})\n",
    "print(str(name7)[:500])"
   ]
  },
  {
   "cell_type": "code",
   "execution_count": 60,
   "metadata": {},
   "outputs": [
    {
     "data": {
      "text/plain": [
       "[['Business', 'and', 'economy'],\n",
       " ['Crime', 'and', 'justice'],\n",
       " ['Defence'],\n",
       " ['Education'],\n",
       " ['Environment'],\n",
       " ['Government'],\n",
       " ['Government', 'spending'],\n",
       " ['Health'],\n",
       " ['Mapping'],\n",
       " ['Society'],\n",
       " ['Towns', 'and', 'cities'],\n",
       " ['Transport']]"
      ]
     },
     "execution_count": 60,
     "metadata": {},
     "output_type": "execute_result"
    }
   ],
   "source": [
    "data_scraped = [n.text.split() for n in name7]\n",
    "# print(type(data_scraped))\n",
    "del data_scraped [:3]\n",
    "data_scraped"
   ]
  },
  {
   "cell_type": "code",
   "execution_count": 61,
   "metadata": {},
   "outputs": [
    {
     "name": "stdout",
     "output_type": "stream",
     "text": [
      "['Business and economy', 'Crime and justice', 'Defence', 'Education', 'Environment', 'Government', 'Government spending', 'Health', 'Mapping', 'Society', 'Towns and cities', 'Transport']\n"
     ]
    }
   ],
   "source": [
    "names_lst7=[\" \".join(name8) for name8 in data_scraped]\n",
    "print(names_lst7)"
   ]
  },
  {
   "cell_type": "markdown",
   "metadata": {},
   "source": [
    "#### Top 10 languages by number of native speakers stored in a Pandas Dataframe"
   ]
  },
  {
   "cell_type": "code",
   "execution_count": 3,
   "metadata": {},
   "outputs": [],
   "source": [
    "# This is the url you will scrape in this exercise\n",
    "url8 = 'https://en.wikipedia.org/wiki/List_of_languages_by_number_of_native_speakers'"
   ]
  },
  {
   "cell_type": "code",
   "execution_count": 5,
   "metadata": {},
   "outputs": [
    {
     "name": "stdout",
     "output_type": "stream",
     "text": [
      "<!DOCTYPE html>\n",
      "\n",
      "<html class=\"client-nojs\" dir=\"ltr\" lang=\"en\">\n",
      "<head>\n",
      "<meta charset=\"utf-8\"/>\n",
      "<title>List of languages by number of native speakers - Wikipedia</title>\n",
      "<script>document.documentElemen\n"
     ]
    }
   ],
   "source": [
    "data8 = requests.get(url8)\n",
    "soup8 = BeautifulSoup(data8.text)\n",
    "\n",
    "print(str(soup8)[:200])"
   ]
  },
  {
   "cell_type": "code",
   "execution_count": 9,
   "metadata": {},
   "outputs": [
    {
     "name": "stdout",
     "output_type": "stream",
     "text": [
      "[]\n"
     ]
    }
   ],
   "source": [
    "# a[href^=\"/wiki/\"]\n",
    "name8= soup8.select('td.a[href^=\"/wiki/\"]')\n",
    "print(str(name8)[:500])\n"
   ]
  },
  {
   "cell_type": "code",
   "execution_count": null,
   "metadata": {},
   "outputs": [],
   "source": []
  },
  {
   "cell_type": "markdown",
   "metadata": {},
   "source": [
    "### Stepping up the game"
   ]
  },
  {
   "cell_type": "markdown",
   "metadata": {},
   "source": [
    "####  20 latest earthquakes info (date, time, latitude, longitude and region name) by the EMSC as a pandas dataframe"
   ]
  },
  {
   "cell_type": "code",
   "execution_count": 11,
   "metadata": {},
   "outputs": [],
   "source": [
    "# This is the url you will scrape in this exercise\n",
    "url = 'https://www.emsc-csem.org/Earthquake/'"
   ]
  },
  {
   "cell_type": "code",
   "execution_count": null,
   "metadata": {},
   "outputs": [],
   "source": []
  },
  {
   "cell_type": "markdown",
   "metadata": {},
   "source": [
    "#### IMDB's Top 250 data (movie name, Initial release, director name and stars) as a pandas dataframe"
   ]
  },
  {
   "cell_type": "code",
   "execution_count": 12,
   "metadata": {},
   "outputs": [],
   "source": [
    "# This is the url you will scrape in this exercise \n",
    "url = 'https://www.imdb.com/chart/top'"
   ]
  },
  {
   "cell_type": "code",
   "execution_count": null,
   "metadata": {},
   "outputs": [],
   "source": []
  },
  {
   "cell_type": "markdown",
   "metadata": {},
   "source": [
    "#### Movie name, year and a brief summary of the top 10 random movies (IMDB) as a pandas dataframe."
   ]
  },
  {
   "cell_type": "code",
   "execution_count": 13,
   "metadata": {},
   "outputs": [],
   "source": [
    "#This is the url you will scrape in this exercise\n",
    "url = 'http://www.imdb.com/chart/top'"
   ]
  },
  {
   "cell_type": "code",
   "execution_count": null,
   "metadata": {},
   "outputs": [],
   "source": []
  },
  {
   "cell_type": "markdown",
   "metadata": {},
   "source": [
    "#### Find the live weather report (temperature, wind speed, description and weather) of a given city."
   ]
  },
  {
   "cell_type": "code",
   "execution_count": 14,
   "metadata": {},
   "outputs": [],
   "source": [
    "#https://openweathermap.org/current"
   ]
  },
  {
   "cell_type": "code",
   "execution_count": 15,
   "metadata": {},
   "outputs": [],
   "source": [
    "def weather(city):\n",
    "    pass"
   ]
  },
  {
   "cell_type": "markdown",
   "metadata": {},
   "source": [
    "#### Book name,price and stock availability as a pandas dataframe."
   ]
  },
  {
   "cell_type": "code",
   "execution_count": 16,
   "metadata": {},
   "outputs": [],
   "source": [
    "# This is the url you will scrape in this exercise. \n",
    "# It is a fictional bookstore created to be scraped. \n",
    "url = 'http://books.toscrape.com/'"
   ]
  },
  {
   "cell_type": "code",
   "execution_count": null,
   "metadata": {},
   "outputs": [],
   "source": []
  }
 ],
 "metadata": {
  "kernelspec": {
   "display_name": "Python 3",
   "language": "python",
   "name": "python3"
  },
  "language_info": {
   "codemirror_mode": {
    "name": "ipython",
    "version": 3
   },
   "file_extension": ".py",
   "mimetype": "text/x-python",
   "name": "python",
   "nbconvert_exporter": "python",
   "pygments_lexer": "ipython3",
   "version": "3.8.2"
  }
 },
 "nbformat": 4,
 "nbformat_minor": 2
}
