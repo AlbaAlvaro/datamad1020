{
 "cells": [
  {
   "cell_type": "markdown",
   "metadata": {},
   "source": [
    "# Before your start:\n",
    "\n",
    "    Read the README.md file\n",
    "    Comment as much as you can and use the resources (README.md file)\n",
    "    Happy learning!"
   ]
  },
  {
   "cell_type": "markdown",
   "metadata": {},
   "source": [
    "In this exercise, we  will generate random numbers from the continuous disributions we learned in the lesson. There are two ways to generate random numbers:\n",
    "\n",
    "1. Using the numpy library \n",
    "1. using the Scipy library \n",
    "\n",
    "Use either or both of the lbraries in this exercise."
   ]
  },
  {
   "cell_type": "markdown",
   "metadata": {},
   "source": [
    "## Uniform Distribution\n",
    "\n",
    "To generate uniform random numbers between any two given values using scipy, we can either use the following code or the code that we have\n",
    "discussed in class:"
   ]
  },
  {
   "cell_type": "code",
   "execution_count": 4,
   "metadata": {},
   "outputs": [
    {
     "name": "stdout",
     "output_type": "stream",
     "text": [
      "[2.72406399 2.81148508 2.20330076 2.66406077 2.32832773 2.12185992\n",
      " 2.40682891 2.84996264 2.16503531 2.38673188]\n"
     ]
    }
   ],
   "source": [
    "from scipy.stats import uniform\n",
    "x = uniform.rvs(size=10)\n",
    "a = 2\n",
    "b = 3\n",
    "randoms  = a + (b-a)*x\n",
    "print(randoms)\n"
   ]
  },
  {
   "cell_type": "markdown",
   "metadata": {},
   "source": [
    "**Your task:**\n",
    "\n",
    "1. Based on the code above, write a function that generates uniformly distributed random numbers. There are several requirements for your function:\n",
    "    * It should accept 3 parameters: \n",
    "        * `bottom` - the lower boundary of the generated numbers\n",
    "        * `ceiling` - the upper boundary of the generated numbers\n",
    "        * `count` - how many numbers to generate\n",
    "    * It should return an array of uniformly distributed random numbers\n",
    "\n",
    "1. Call your function with 2 sets of params below:\n",
    "    * bottom=10, ceiling=15, count=100\n",
    "    * bottom=10, ceiling=60, count=1,000\n",
    "\n",
    "1. Plot the uniform distributions generated above using histograms, where x axis is the value and y axis is the count. Let the histogram's number of bins be 10.\n",
    "\n",
    "Your output should look like below:\n",
    "\n",
    "![uniform distribution](ud.png)"
   ]
  },
  {
   "cell_type": "code",
   "execution_count": null,
   "metadata": {},
   "outputs": [],
   "source": [
    "# your code here\n",
    "\n",
    "def random_num(bottom,ceiling,count):\n",
    "    x= uniform.rvs(size=count)\n",
    "    a=bottom\n",
    "    b=ceiling\n",
    "    randoms=a + (b-a)*x\n",
    "    return randoms"
   ]
  },
  {
   "cell_type": "code",
   "execution_count": 2,
   "metadata": {},
   "outputs": [],
   "source": [
    "from matplotlib import pyplot as plt\n",
    "import numpy as np"
   ]
  },
  {
   "cell_type": "code",
   "execution_count": 23,
   "metadata": {},
   "outputs": [
    {
     "data": {
      "image/png": "[encoded data removed]",
      "text/plain": [
       "<Figure size 432x288 with 2 Axes>"
      ]
     },
     "metadata": {
      "needs_background": "light"
     },
     "output_type": "display_data"
    }
   ],
   "source": [
    "fig, ax = plt.subplots(1,2)\n",
    "\n",
    "# ax[0].set_ylabel('Frequency')\n",
    "# ax[0].set_title('Insert Title Here')\n",
    "# ax[0].set_xticklabels(('X1', 'X2', 'X3', 'X4', 'X5'))\n",
    "\n",
    "x_0=random_num(10,15,100)\n",
    "ax[0].hist(x_0, bins=10)\n",
    "\n",
    "# ax[1].set_ylabel('Frequency')\n",
    "# ax[1].set_title('Insert Title Here')\n",
    "# ax[1].set_xticklabels(('X1', 'X2', 'X3', 'X4', 'X5'))\n",
    "\n",
    "x_1=random_num(10,60,1000)\n",
    "ax[1].hist(x_1, bins=10);"
   ]
  },
  {
   "cell_type": "markdown",
   "metadata": {},
   "source": [
    "How are the two distributions different?"
   ]
  },
  {
   "cell_type": "markdown",
   "metadata": {},
   "source": [
    "The second one is more uniform"
   ]
  },
  {
   "cell_type": "markdown",
   "metadata": {},
   "source": [
    "## Normal Distribution\n",
    "\n",
    "1. In the same way in the Uniform Distribution challenge, write a function that generates normally distributed random numbers.\n",
    "1. Generate 1,000 normally distributed numbers with the average of 10 and standard deviation of 1\n",
    "1. Generate 1,000 normally distributed numbers with the average of 10 and standard deviation of 50\n",
    "2. Plot the distributions of the data generated.\n",
    "\n",
    "Expected output:\n",
    "\n",
    "![normal distribution](nd.png)"
   ]
  },
  {
   "cell_type": "code",
   "execution_count": 27,
   "metadata": {},
   "outputs": [],
   "source": [
    "# your code here\n",
    "def normal_num(average,stdeviation,size):\n",
    "    random_n=np.random.normal(average,stdeviation,size)\n",
    "    return random_n"
   ]
  },
  {
   "cell_type": "code",
   "execution_count": 32,
   "metadata": {},
   "outputs": [
    {
     "data": {
      "image/png": "[encoded data removed]",
      "text/plain": [
       "<Figure size 432x288 with 2 Axes>"
      ]
     },
     "metadata": {
      "needs_background": "light"
     },
     "output_type": "display_data"
    }
   ],
   "source": [
    "fig, ax = plt.subplots(1,2)\n",
    "\n",
    "x_0=normal_num(10,1,1000)\n",
    "ax[0].hist(x_0, bins=50)\n",
    "\n",
    "x_1=normal_num(10,50,1000)\n",
    "ax[1].hist(x_1, bins=50);"
   ]
  },
  {
   "cell_type": "markdown",
   "metadata": {},
   "source": [
    "How are the two distributions different?"
   ]
  },
  {
   "cell_type": "markdown",
   "metadata": {},
   "source": [
    "The second one is more like a normal distribution, although both of them have a normal distribution"
   ]
  },
  {
   "cell_type": "markdown",
   "metadata": {},
   "source": [
    "## Normal Distribution of Real Data\n",
    "\n",
    "In this challenge we are going to take a look the real data. We will use vehicles.csv file for this exercise"
   ]
  },
  {
   "cell_type": "markdown",
   "metadata": {},
   "source": [
    "First import vehicles.csv.\n",
    "Then plot the histograms for the following variables:\n",
    "\n",
    "1. Fuel Barrels/Year"
   ]
  },
  {
   "cell_type": "code",
   "execution_count": 34,
   "metadata": {},
   "outputs": [],
   "source": [
    "import pandas as pd"
   ]
  },
  {
   "cell_type": "code",
   "execution_count": 35,
   "metadata": {},
   "outputs": [],
   "source": [
    "df=pd.read_csv(\"vehicles.csv\")"
   ]
  },
  {
   "cell_type": "code",
   "execution_count": 38,
   "metadata": {},
   "outputs": [
    {
     "data": {
      "image/png": "[encoded data removed]",
      "text/plain": [
       "<Figure size 432x288 with 1 Axes>"
      ]
     },
     "metadata": {
      "needs_background": "light"
     },
     "output_type": "display_data"
    }
   ],
   "source": [
    "# your code here\n",
    "plt.hist(df[\"Fuel Barrels/Year\"]);"
   ]
  },
  {
   "cell_type": "markdown",
   "metadata": {},
   "source": [
    "2. CO2 Emission Grams/Mile "
   ]
  },
  {
   "cell_type": "code",
   "execution_count": 40,
   "metadata": {},
   "outputs": [
    {
     "data": {
      "image/png": "[encoded data removed]",
      "text/plain": [
       "<Figure size 432x288 with 1 Axes>"
      ]
     },
     "metadata": {
      "needs_background": "light"
     },
     "output_type": "display_data"
    }
   ],
   "source": [
    "# your code here\n",
    "plt.hist(df[\"CO2 Emission Grams/Mile\"]);"
   ]
  },
  {
   "cell_type": "markdown",
   "metadata": {},
   "source": [
    "3. Combined MPG"
   ]
  },
  {
   "cell_type": "code",
   "execution_count": 42,
   "metadata": {},
   "outputs": [
    {
     "data": {
      "image/png": "[encoded data removed]",
      "text/plain": [
       "<Figure size 432x288 with 1 Axes>"
      ]
     },
     "metadata": {
      "needs_background": "light"
     },
     "output_type": "display_data"
    }
   ],
   "source": [
    "# your code here\n",
    "plt.hist(df[\"Combined MPG\"]);"
   ]
  },
  {
   "cell_type": "markdown",
   "metadata": {},
   "source": [
    "Which one(s) of the variables are nearly normally distributed? How do you know?"
   ]
  },
  {
   "cell_type": "markdown",
   "metadata": {},
   "source": [
    "The three of them are normally distributed, as they have the shape of a normal distribution"
   ]
  },
  {
   "cell_type": "markdown",
   "metadata": {},
   "source": [
    "## Exponential Distribution"
   ]
  },
  {
   "cell_type": "markdown",
   "metadata": {},
   "source": [
    "1. Using `numpy.random.exponential`, create a function that returns a list of numbers exponentially distributed with the mean of 10. \n",
    "\n",
    "1. Use the function to generate two number sequences with the size of 10 and 100.\n",
    "\n",
    "1. Plot the distributions as histograms with the nubmer of bins as 100.\n",
    "\n",
    "Your output should look like below:\n",
    "\n",
    "![exponential distribution](ed.png)"
   ]
  },
  {
   "cell_type": "code",
   "execution_count": 3,
   "metadata": {},
   "outputs": [
    {
     "data": {
      "image/png": "[encoded data removed]",
      "text/plain": [
       "<Figure size 432x288 with 2 Axes>"
      ]
     },
     "metadata": {
      "needs_background": "light"
     },
     "output_type": "display_data"
    }
   ],
   "source": [
    "# your code here\n",
    "def expo_num(x, y, mean, size):\n",
    "    randoms= x+(y-x)*np.random.exponential(mean, size)\n",
    "    return randoms\n",
    "\n",
    "x_0=expo_num(0,10,10,10)\n",
    "x_1=expo_num(0,10,10,100)\n",
    "\n",
    "fig, ax = plt.subplots(1,2)\n",
    "\n",
    "ax[0].hist(x_0, bins=100)\n",
    "\n",
    "ax[1].hist(x_1, bins=100);\n"
   ]
  },
  {
   "cell_type": "markdown",
   "metadata": {},
   "source": [
    "How are the two distributions different?"
   ]
  },
  {
   "cell_type": "code",
   "execution_count": null,
   "metadata": {},
   "outputs": [],
   "source": [
    "# your answer here"
   ]
  },
  {
   "cell_type": "markdown",
   "metadata": {},
   "source": [
    "## Exponential Distribution of Real Data\n",
    "\n",
    "Suppose that the amount of time one spends in a bank is exponentially distributed with mean as 10 minutes (i.e. λ = 1/10). What is the probability that a customer will spend less than fifteen minutes in the bank? \n",
    "\n",
    "Write a code in python to solve this problem"
   ]
  },
  {
   "cell_type": "code",
   "execution_count": 43,
   "metadata": {},
   "outputs": [
    {
     "data": {
      "text/plain": [
       "0.9816843611112658"
      ]
     },
     "execution_count": 43,
     "metadata": {},
     "output_type": "execute_result"
    }
   ],
   "source": [
    "# your answer here\n",
    "# Hint: This is same as saying P(x<15)\n",
    "from scipy.stats import expon\n",
    "# expon.cdf(x, loc, scale)\n",
    "\n",
    "x=14\n",
    "loc=10\n",
    "scale=1\n",
    "expon.cdf(x,loc=loc,scale=scale)"
   ]
  },
  {
   "cell_type": "markdown",
   "metadata": {},
   "source": [
    "What is the probability that the customer will spend more than 15 minutes"
   ]
  },
  {
   "cell_type": "code",
   "execution_count": null,
   "metadata": {},
   "outputs": [],
   "source": [
    "# your answer here\n",
    "expon.pdf(x, loc, scale)\n"
   ]
  },
  {
   "cell_type": "code",
   "execution_count": null,
   "metadata": {},
   "outputs": [],
   "source": []
  }
 ],
 "metadata": {
  "kernelspec": {
   "display_name": "Python 3",
   "language": "python",
   "name": "python3"
  },
  "language_info": {
   "codemirror_mode": {
    "name": "ipython",
    "version": 3
   },
   "file_extension": ".py",
   "mimetype": "text/x-python",
   "name": "python",
   "nbconvert_exporter": "python",
   "pygments_lexer": "ipython3",
   "version": "3.8.2"
  }
 },
 "nbformat": 4,
 "nbformat_minor": 2
}
