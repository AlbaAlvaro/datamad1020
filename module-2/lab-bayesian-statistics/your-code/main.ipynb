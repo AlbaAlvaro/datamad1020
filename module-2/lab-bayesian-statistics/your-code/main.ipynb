{
 "cells": [
  {
   "cell_type": "markdown",
   "metadata": {},
   "source": [
    "# Intro to Bayesian Statistics Lab\n",
    "\n",
    "Complete the following set of exercises to solidify your knowledge of Bayesian statistics and Bayesian data analysis."
   ]
  },
  {
   "cell_type": "code",
   "execution_count": 1,
   "metadata": {},
   "outputs": [],
   "source": [
    "import pandas as pd\n",
    "import numpy as np\n",
    "import matplotlib.pyplot as plt"
   ]
  },
  {
   "cell_type": "markdown",
   "metadata": {},
   "source": [
    "## 1. Cookie Problem\n",
    "\n",
    "Suppose we have two bowls of cookies. Bowl 1 contains 30 vanilla cookies and 10 chocolate cookies. Bowl 2 contains 20 of each. You randomly pick one cookie out of one of the bowls, and it is vanilla. Use Bayes Theorem to calculate the probability that the vanilla cookie you picked came from Bowl 1?"
   ]
  },
  {
   "cell_type": "code",
   "execution_count": 3,
   "metadata": {},
   "outputs": [
    {
     "data": {
      "text/plain": [
       "0.6"
      ]
     },
     "execution_count": 3,
     "metadata": {},
     "output_type": "execute_result"
    }
   ],
   "source": [
    "# Probability that is vainilla coming from bowl1\n",
    "p_v_1= 30/40\n",
    "# Probability that comes from bowl1\n",
    "p_1= 40/80\n",
    "# Probability that is vainilla\n",
    "p_v= 50/80\n",
    "\n",
    "# Probability that is from bowl1 being vainilla\n",
    "\n",
    "p_1_v= (p_v_1*p_1)/p_v\n",
    "p_1_v"
   ]
  },
  {
   "cell_type": "markdown",
   "metadata": {},
   "source": [
    "What is the probability that it came from Bowl 2?"
   ]
  },
  {
   "cell_type": "code",
   "execution_count": 4,
   "metadata": {},
   "outputs": [
    {
     "data": {
      "text/plain": [
       "0.4"
      ]
     },
     "execution_count": 4,
     "metadata": {},
     "output_type": "execute_result"
    }
   ],
   "source": [
    "# Probability that is vainilla coming from bowl2\n",
    "p_v_2= 20/40\n",
    "# Probability that comes from bowl2\n",
    "p_2= 40/80\n",
    "# Probability that is vainilla\n",
    "p_v= 50/80\n",
    "\n",
    "# Probability that is from bowl2 being vainilla\n",
    "\n",
    "p_2_v= (p_v_2*p_2)/p_v\n",
    "p_2_v"
   ]
  },
  {
   "cell_type": "markdown",
   "metadata": {},
   "source": [
    "What if the cookie you had picked was chocolate? What are the probabilities that the chocolate cookie came from Bowl 1 and Bowl 2 respectively?"
   ]
  },
  {
   "cell_type": "code",
   "execution_count": 6,
   "metadata": {},
   "outputs": [
    {
     "name": "stdout",
     "output_type": "stream",
     "text": [
      "The probability that it is from bowl1 is: 0.3333333333333333 and the probability that it is from bowl2 is: 0.6666666666666666\n"
     ]
    }
   ],
   "source": [
    "# Probability that is chocolate coming from bowl1\n",
    "p_c_1= 10/40\n",
    "# Probability that comes from bowl1\n",
    "p_1= 40/80\n",
    "# Probability that is chocolate\n",
    "p_c= 30/80\n",
    "# Probability that is from bowl1 being chocolate\n",
    "\n",
    "p_1_c= (p_c_1*p_1)/p_c\n",
    "\n",
    "\n",
    "# Probability that is chocolate coming from bowl2\n",
    "p_c_2= 20/40\n",
    "# Probability that comes from bowl2\n",
    "p_2= 40/80\n",
    "# Probability that is chocolate\n",
    "p_c= 30/80\n",
    "\n",
    "# Probability that is from bowl2 being chocolate\n",
    "\n",
    "p_2_c= (p_c_2*p_2)/p_c\n",
    "\n",
    "print(f\"The probability that it is from bowl1 is: {p_1_c} and the probability that it is from bowl2 is: {p_2_c}\")"
   ]
  },
  {
   "cell_type": "markdown",
   "metadata": {},
   "source": [
    "## 2. Candy Problem\n",
    "\n",
    "Suppose you have two bags of candies:\n",
    "\n",
    "- In Bag 1, the mix of colors is:\n",
    "    - Brown - 30%\n",
    "    - Yellow - 20%\n",
    "    - Red - 20%\n",
    "    - Green - 10%\n",
    "    - Orange - 10%\n",
    "    - Tan - 10%\n",
    "    \n",
    "- In Bag 2, the mix of colors is:\n",
    "    - Blue - 24%\n",
    "    - Green - 20%\n",
    "    - Orange - 16%\n",
    "    - Yellow - 14%\n",
    "    - Red - 13%\n",
    "    - Brown - 13%\n",
    "    \n",
    "Not knowing which bag is which, you randomly draw one candy from each bag. One is yellow and one is green. What is the probability that the yellow one came from the Bag 1?\n",
    "\n",
    "*Hint: For the likelihoods, you will need to multiply the probabilities of drawing yellow from one bag and green from the other bag and vice versa.*"
   ]
  },
  {
   "cell_type": "code",
   "execution_count": 27,
   "metadata": {},
   "outputs": [
    {
     "data": {
      "text/plain": [
       "0.7407407407407408"
      ]
     },
     "execution_count": 27,
     "metadata": {},
     "output_type": "execute_result"
    }
   ],
   "source": [
    "# Probability of choosing from bag 1 or from bag 2\n",
    "p_1=0.5\n",
    "p_2=0.5\n",
    "\n",
    "# Likelihood of chosing 1 yellow\n",
    "p_1y= 0.2*0.2 # Probability of having one yellow from bag1 and one green from bag2\n",
    "p_2y= 0.14*0.1 # Probability of having one green from bag1 and one yellow from bag2\n",
    "\n",
    "# Conjoint probability that we get 1 yellow\n",
    "p_1_1y= p_1*p_1y\n",
    "p_2_2y= p_2*p_2y\n",
    "\n",
    "# sum\n",
    "sum_1= p_1_1y + p_2_2y\n",
    "\n",
    "# likelihood of choosing 1 green\n",
    "p_1g=0.1*0.14 # Probability of having one green from bag1 and one yellow from bag2\n",
    "p_2g=0.20*0.20 # Probability of having one yellow from bag1 and one green from bag2\n",
    "\n",
    "# Conjoint probability of getting 1 green\n",
    "p_1_1g= p_1*p_1g\n",
    "p_2_2g= p_2*p_2g\n",
    "\n",
    "# sum\n",
    "sum_2= p_1_1g + p_2_2g\n",
    "\n",
    "# Yellow from bag1\n",
    "p_1_y= p_1_1y/sum_1\n",
    "p_1_y"
   ]
  },
  {
   "cell_type": "markdown",
   "metadata": {},
   "source": [
    "What is the probability that the yellow candy came from Bag 2?"
   ]
  },
  {
   "cell_type": "code",
   "execution_count": 28,
   "metadata": {},
   "outputs": [
    {
     "data": {
      "text/plain": [
       "0.25925925925925924"
      ]
     },
     "execution_count": 28,
     "metadata": {},
     "output_type": "execute_result"
    }
   ],
   "source": [
    "# Probability yellow from bag2\n",
    "p_2_y= p_2_2y/sum_1\n",
    "p_2_y"
   ]
  },
  {
   "cell_type": "markdown",
   "metadata": {},
   "source": [
    "What are the probabilities that the green one came from Bag 1 and Bag 2 respectively?"
   ]
  },
  {
   "cell_type": "code",
   "execution_count": 29,
   "metadata": {},
   "outputs": [
    {
     "data": {
      "text/plain": [
       "0.25925925925925924"
      ]
     },
     "execution_count": 29,
     "metadata": {},
     "output_type": "execute_result"
    }
   ],
   "source": [
    "# Probability getting green from bag1\n",
    "p_1_g= p_1_1g/sum_2\n",
    "p_1_g"
   ]
  },
  {
   "cell_type": "code",
   "execution_count": 30,
   "metadata": {},
   "outputs": [
    {
     "data": {
      "text/plain": [
       "0.7407407407407408"
      ]
     },
     "execution_count": 30,
     "metadata": {},
     "output_type": "execute_result"
    }
   ],
   "source": [
    "# Probability getting green from bag2\n",
    "p_2_g= p_2_2g/sum_2\n",
    "p_2_g"
   ]
  },
  {
   "cell_type": "markdown",
   "metadata": {},
   "source": [
    "## 3. Monty Hall Problem\n",
    "\n",
    "Suppose you are a contestant on the popular game show *Let's Make a Deal*. The host of the show (Monty Hall) presents you with three doors - Door A, Door B, and Door C. He tells you that there is a sports car behind one of them and if you choose the correct one, you win the car!\n",
    "\n",
    "You select Door A, but then Monty makes things a little more interesting. He opens Door B to reveal that there is no sports car behind it and asks you if you would like to stick with your choice of Door A or switch your choice to Door C. Given this new information, what are the probabilities of you winning the car if you stick with Door A versus if you switch to Door C?"
   ]
  },
  {
   "cell_type": "code",
   "execution_count": 23,
   "metadata": {},
   "outputs": [
    {
     "data": {
      "text/plain": [
       "0.3333333333333333"
      ]
     },
     "execution_count": 23,
     "metadata": {},
     "output_type": "execute_result"
    }
   ],
   "source": [
    "# Door A\n",
    "# A= car is in A\n",
    "# B=door B is open\n",
    "\n",
    "\n",
    "# Probability that door B is opened being the car in door A\n",
    "p_B_A=1/2\n",
    "# Probability that car is in door A\n",
    "p_A=1/3\n",
    "# Probability that door B is opened\n",
    "p_B=1/2\n",
    "\n",
    "# Probability that the car is in door A, having door B opened\n",
    "\n",
    "p_A_B= (p_B_A*p_A)/p_B\n",
    "p_A_B"
   ]
  },
  {
   "cell_type": "code",
   "execution_count": 24,
   "metadata": {},
   "outputs": [
    {
     "data": {
      "text/plain": [
       "0.6666666666666666"
      ]
     },
     "execution_count": 24,
     "metadata": {},
     "output_type": "execute_result"
    }
   ],
   "source": [
    "# Door C\n",
    "# C= car is in C\n",
    "# B= door B is open\n",
    "\n",
    "\n",
    "# Probability that door B is opened being the car in door C\n",
    "p_B_C=1\n",
    "# Probability that car is in door C\n",
    "p_C=1/3\n",
    "# Probability that door B is opened\n",
    "p_B=1/2\n",
    "\n",
    "# Probability that the car is in door C, having door B opened\n",
    "\n",
    "p_C_B= (p_B_C*p_C)/p_B\n",
    "p_C_B"
   ]
  },
  {
   "cell_type": "markdown",
   "metadata": {},
   "source": [
    "## 4. Bayesian Analysis \n",
    "\n",
    "Suppose you work for a landscaping company, and they want to advertise their service online. They create an ad and sit back waiting for the money to roll in. On the first day, the ad sends 100 visitors to the site and 14 of them sign up for landscaping services. Create a generative model to come up with the posterior distribution and produce a visualization of what the posterior distribution would look like given the observed data."
   ]
  },
  {
   "cell_type": "code",
   "execution_count": null,
   "metadata": {},
   "outputs": [],
   "source": [
    "p_s=14/100"
   ]
  },
  {
   "cell_type": "markdown",
   "metadata": {},
   "source": [
    "Produce a set of descriptive statistics for the posterior distribution."
   ]
  },
  {
   "cell_type": "code",
   "execution_count": null,
   "metadata": {},
   "outputs": [],
   "source": []
  },
  {
   "cell_type": "markdown",
   "metadata": {},
   "source": [
    "What is the 90% credible interval range?"
   ]
  },
  {
   "cell_type": "code",
   "execution_count": null,
   "metadata": {},
   "outputs": [],
   "source": []
  },
  {
   "cell_type": "markdown",
   "metadata": {},
   "source": [
    "What is the Maximum Likelihood Estimate?"
   ]
  },
  {
   "cell_type": "code",
   "execution_count": null,
   "metadata": {},
   "outputs": [],
   "source": []
  }
 ],
 "metadata": {
  "kernelspec": {
   "display_name": "Python 3",
   "language": "python",
   "name": "python3"
  },
  "language_info": {
   "codemirror_mode": {
    "name": "ipython",
    "version": 3
   },
   "file_extension": ".py",
   "mimetype": "text/x-python",
   "name": "python",
   "nbconvert_exporter": "python",
   "pygments_lexer": "ipython3",
   "version": "3.8.2"
  }
 },
 "nbformat": 4,
 "nbformat_minor": 2
}
